{
  "nbformat": 4,
  "nbformat_minor": 0,
  "metadata": {
    "colab": {
      "provenance": []
    },
    "kernelspec": {
      "name": "python3",
      "display_name": "Python 3"
    },
    "language_info": {
      "name": "python"
    }
  },
  "cells": [
    {
      "cell_type": "code",
      "execution_count": null,
      "metadata": {
        "id": "67AQ3wdpw3jl"
      },
      "outputs": [],
      "source": [
        "import tensorflow as tf\n",
        "from tensorflow import keras\n",
        "from tensorflow.keras.datasets import mnist\n",
        "import numpy as np\n",
        "from sklearn.model_selection import train_test_split\n",
        "import matplotlib.pyplot as plt"
      ]
    },
    {
      "cell_type": "code",
      "source": [
        "# Télécharger les données\n",
        "(x_train, y_train), (x_test, y_test) = mnist.load_data()\n",
        "print(x_train.shape, x_test.shape, y_train.shape, y_test.shape)"
      ],
      "metadata": {
        "colab": {
          "base_uri": "https://localhost:8080/"
        },
        "id": "R2pw6ikoc8Lv",
        "outputId": "96c152c3-3ea9-4cf7-ddba-d8aebaf0e2ca"
      },
      "execution_count": null,
      "outputs": [
        {
          "output_type": "stream",
          "name": "stdout",
          "text": [
            "(60000, 28, 28) (10000, 28, 28) (60000,) (10000,)\n"
          ]
        }
      ]
    },
    {
      "cell_type": "code",
      "source": [
        "#prétraiter les données\n",
        "x_train = x_train.astype('float32') / 255\n",
        "x_test = x_test.astype('float32') / 255\n",
        "x_train = np.reshape(x_train, (len(x_train), 28, 28, 1))\n",
        "x_test = np.reshape(x_test, (len(x_test), 28, 28, 1))"
      ],
      "metadata": {
        "id": "6V4EjjBCpL7y"
      },
      "execution_count": null,
      "outputs": []
    },
    {
      "cell_type": "code",
      "source": [
        "# Diviser en ensembles étiquetés et non étiquetés\n",
        "x_train_labeled, x_train_unlabeled, y_train_labeled, _ = train_test_split(x_train, y_train, test_size=0.8, stratify=y_train)"
      ],
      "metadata": {
        "id": "30i_1Y9TdBuq"
      },
      "execution_count": null,
      "outputs": []
    },
    {
      "cell_type": "code",
      "source": [
        "# Visualiser quelques exemples du jeu de données original\n",
        "fig, axes = plt.subplots(nrows=2, ncols=5, figsize=(12, 5))\n",
        "for ax, img, label in zip(axes.ravel(), x_train[:10], y_train[:10]):\n",
        "    ax.imshow(img.squeeze(), cmap='gray')\n",
        "    ax.set_title(f\"Label: {label}\")\n",
        "    ax.axis('off')\n",
        "plt.show()"
      ],
      "metadata": {
        "colab": {
          "base_uri": "https://localhost:8080/",
          "height": 429
        },
        "id": "lPMxVwP5qwAR",
        "outputId": "3584c4b4-97fe-4645-9420-0de91d9087b5"
      },
      "execution_count": null,
      "outputs": [
        {
          "output_type": "display_data",
          "data": {
            "text/plain": [
              "<Figure size 1200x500 with 10 Axes>"
            ],
            "image/png": "[encoded data removed]"
          },
          "metadata": {}
        }
      ]
    },
    {
      "cell_type": "code",
      "source": [
        "# Définir l'auto-encodeur convolutionnel\n",
        "input_img = keras.Input(shape=(28, 28, 1))\n",
        "x = keras.layers.Conv2D(16, (3, 3), activation='relu', padding='same')(input_img)\n",
        "x = keras.layers.MaxPooling2D((2, 2), padding='same')(x)\n",
        "x = keras.layers.Conv2D(8, (3, 3), activation='relu', padding='same')(x)\n",
        "x = keras.layers.MaxPooling2D((2, 2), padding='same')(x)\n",
        "x = keras.layers.Conv2D(8, (3, 3), activation='relu', padding='same')(x)\n",
        "encoded = keras.layers.MaxPooling2D((2, 2), padding='same')(x)\n",
        "\n",
        "x = keras.layers.Conv2D(8, (3, 3), activation='relu', padding='same')(encoded)\n",
        "x = keras.layers.UpSampling2D((2, 2))(x)\n",
        "x = keras.layers.Conv2D(8, (3, 3), activation='relu', padding='same')(x)\n",
        "x = keras.layers.UpSampling2D((2, 2))(x)\n",
        "x = keras.layers.Conv2D(16, (3, 3), activation='relu')(x)\n",
        "x = keras.layers.UpSampling2D((2, 2))(x)\n",
        "decoded = keras.layers.Conv2D(1, (3, 3), activation='sigmoid', padding='same')(x)\n",
        "\n",
        "autoencoder = keras.Model(input_img, decoded)\n",
        "autoencoder.compile(optimizer='adam', loss='binary_crossentropy')"
      ],
      "metadata": {
        "id": "h6yTb_P2dBhn"
      },
      "execution_count": null,
      "outputs": []
    },
    {
      "cell_type": "code",
      "source": [
        "# Entraîner l'auto-encodeur sur les données non étiquetées\n",
        "autoencoder.fit(x_train_unlabeled, x_train_unlabeled, epochs=50, batch_size=128, shuffle=True)"
      ],
      "metadata": {
        "colab": {
          "base_uri": "https://localhost:8080/"
        },
        "id": "i22JmQrJdI-V",
        "outputId": "91ef6819-7cba-402c-d2e9-2f9f6f7f0837"
      },
      "execution_count": null,
      "outputs": [
        {
          "output_type": "stream",
          "name": "stdout",
          "text": [
            "Epoch 1/50\n",
            "375/375 [==============================] - 53s 131ms/step - loss: 0.2251\n",
            "Epoch 2/50\n",
            "375/375 [==============================] - 58s 155ms/step - loss: 0.1401\n",
            "Epoch 3/50\n",
            "375/375 [==============================] - 50s 133ms/step - loss: 0.1272\n",
            "Epoch 4/50\n",
            "375/375 [==============================] - 53s 140ms/step - loss: 0.1206\n",
            "Epoch 5/50\n",
            "375/375 [==============================] - 50s 133ms/step - loss: 0.1164\n",
            "Epoch 6/50\n",
            "375/375 [==============================] - 50s 134ms/step - loss: 0.1132\n",
            "Epoch 7/50\n",
            "375/375 [==============================] - 49s 130ms/step - loss: 0.1106\n",
            "Epoch 8/50\n",
            "375/375 [==============================] - 50s 134ms/step - loss: 0.1086\n",
            "Epoch 9/50\n",
            "375/375 [==============================] - 51s 136ms/step - loss: 0.1070\n",
            "Epoch 10/50\n",
            "375/375 [==============================] - 50s 134ms/step - loss: 0.1056\n",
            "Epoch 11/50\n",
            "375/375 [==============================] - 51s 135ms/step - loss: 0.1044\n",
            "Epoch 12/50\n",
            "375/375 [==============================] - 50s 134ms/step - loss: 0.1034\n",
            "Epoch 13/50\n",
            "375/375 [==============================] - 50s 133ms/step - loss: 0.1024\n",
            "Epoch 14/50\n",
            "375/375 [==============================] - 49s 132ms/step - loss: 0.1016\n",
            "Epoch 15/50\n",
            "375/375 [==============================] - 49s 129ms/step - loss: 0.1010\n",
            "Epoch 16/50\n",
            "375/375 [==============================] - 50s 133ms/step - loss: 0.1003\n",
            "Epoch 17/50\n",
            "375/375 [==============================] - 49s 131ms/step - loss: 0.0997\n",
            "Epoch 18/50\n",
            "375/375 [==============================] - 49s 132ms/step - loss: 0.0991\n",
            "Epoch 19/50\n",
            "375/375 [==============================] - 51s 135ms/step - loss: 0.0986\n",
            "Epoch 20/50\n",
            "375/375 [==============================] - 50s 133ms/step - loss: 0.0981\n",
            "Epoch 21/50\n",
            "375/375 [==============================] - 48s 128ms/step - loss: 0.0976\n",
            "Epoch 22/50\n",
            "375/375 [==============================] - 49s 131ms/step - loss: 0.0972\n",
            "Epoch 23/50\n",
            "375/375 [==============================] - 49s 131ms/step - loss: 0.0968\n",
            "Epoch 24/50\n",
            "375/375 [==============================] - 50s 134ms/step - loss: 0.0964\n",
            "Epoch 25/50\n",
            "375/375 [==============================] - 49s 131ms/step - loss: 0.0961\n",
            "Epoch 26/50\n",
            "375/375 [==============================] - 49s 132ms/step - loss: 0.0958\n",
            "Epoch 27/50\n",
            "375/375 [==============================] - 49s 130ms/step - loss: 0.0955\n",
            "Epoch 28/50\n",
            "375/375 [==============================] - 49s 131ms/step - loss: 0.0952\n",
            "Epoch 29/50\n",
            "375/375 [==============================] - 50s 133ms/step - loss: 0.0949\n",
            "Epoch 30/50\n",
            "375/375 [==============================] - 50s 132ms/step - loss: 0.0946\n",
            "Epoch 31/50\n",
            "375/375 [==============================] - 51s 136ms/step - loss: 0.0945\n",
            "Epoch 32/50\n",
            "375/375 [==============================] - 50s 134ms/step - loss: 0.0942\n",
            "Epoch 33/50\n",
            "375/375 [==============================] - 49s 131ms/step - loss: 0.0939\n",
            "Epoch 34/50\n",
            "375/375 [==============================] - 49s 130ms/step - loss: 0.0938\n",
            "Epoch 35/50\n",
            "375/375 [==============================] - 49s 131ms/step - loss: 0.0936\n",
            "Epoch 36/50\n",
            "375/375 [==============================] - 49s 131ms/step - loss: 0.0934\n",
            "Epoch 37/50\n",
            "375/375 [==============================] - 49s 131ms/step - loss: 0.0932\n",
            "Epoch 38/50\n",
            "375/375 [==============================] - 48s 129ms/step - loss: 0.0930\n",
            "Epoch 39/50\n",
            "375/375 [==============================] - 48s 129ms/step - loss: 0.0929\n",
            "Epoch 40/50\n",
            "375/375 [==============================] - 49s 131ms/step - loss: 0.0927\n",
            "Epoch 41/50\n",
            "375/375 [==============================] - 50s 132ms/step - loss: 0.0926\n",
            "Epoch 42/50\n",
            "375/375 [==============================] - 49s 132ms/step - loss: 0.0924\n",
            "Epoch 43/50\n",
            "375/375 [==============================] - 49s 130ms/step - loss: 0.0923\n",
            "Epoch 44/50\n",
            "375/375 [==============================] - 49s 131ms/step - loss: 0.0921\n",
            "Epoch 45/50\n",
            "375/375 [==============================] - 49s 131ms/step - loss: 0.0920\n",
            "Epoch 46/50\n",
            "375/375 [==============================] - 49s 132ms/step - loss: 0.0919\n",
            "Epoch 47/50\n",
            "375/375 [==============================] - 48s 129ms/step - loss: 0.0917\n",
            "Epoch 48/50\n",
            "375/375 [==============================] - 49s 131ms/step - loss: 0.0916\n",
            "Epoch 49/50\n",
            "375/375 [==============================] - 49s 131ms/step - loss: 0.0915\n",
            "Epoch 50/50\n",
            "375/375 [==============================] - 49s 130ms/step - loss: 0.0914\n"
          ]
        },
        {
          "output_type": "execute_result",
          "data": {
            "text/plain": [
              "<keras.src.callbacks.History at 0x7998148ff370>"
            ]
          },
          "metadata": {},
          "execution_count": 7
        }
      ]
    },
    {
      "cell_type": "code",
      "source": [
        "# Visualiser les images reconstruites par l'auto-encodeur\n",
        "decoded_imgs = autoencoder.predict(x_train_labeled)\n",
        "fig, axes = plt.subplots(nrows=2, ncols=5, figsize=(12, 5))\n",
        "for ax, orig, recon in zip(axes.ravel(), x_train_labeled[:10], decoded_imgs[:10]):\n",
        "    ax.imshow(orig.squeeze(), cmap='gray')\n",
        "    ax.set_title('Original')\n",
        "    ax.axis('off')\n",
        "    ax.imshow(recon.squeeze(), cmap='gray')\n",
        "    ax.set_title('Reconstructed')\n",
        "    ax.axis('off')\n",
        "plt.show()"
      ],
      "metadata": {
        "colab": {
          "base_uri": "https://localhost:8080/",
          "height": 446
        },
        "id": "0wYRsjAwrAAl",
        "outputId": "08651090-50e7-45cd-ff95-42dae912fc31"
      },
      "execution_count": null,
      "outputs": [
        {
          "output_type": "stream",
          "name": "stdout",
          "text": [
            "375/375 [==============================] - 5s 14ms/step\n"
          ]
        },
        {
          "output_type": "display_data",
          "data": {
            "text/plain": [
              "<Figure size 1200x500 with 10 Axes>"
            ],
            "image/png": "[encoded data removed]"
          },
          "metadata": {}
        }
      ]
    },
    {
      "cell_type": "code",
      "source": [
        "# Extraire les caractéristiques avec l'encodeur\n",
        "encoder = keras.Model(input_img, encoded)\n",
        "x_train_features = encoder.predict(x_train_labeled)"
      ],
      "metadata": {
        "colab": {
          "base_uri": "https://localhost:8080/"
        },
        "id": "E2XXDf9OdPDE",
        "outputId": "a45d000e-337b-4773-c314-98a08a5745b3"
      },
      "execution_count": null,
      "outputs": [
        {
          "output_type": "stream",
          "name": "stdout",
          "text": [
            "375/375 [==============================] - 3s 7ms/step\n"
          ]
        }
      ]
    },
    {
      "cell_type": "code",
      "source": [
        "# Définir et entraîner le modèle de classification\n",
        "input_features = keras.Input(shape=x_train_features.shape[1:])\n",
        "x = keras.layers.Flatten()(input_features)\n",
        "x = keras.layers.Dense(128, activation='relu')(x)\n",
        "output = keras.layers.Dense(10, activation='softmax')(x)\n",
        "classifier = keras.Model(input_features, output)\n",
        "classifier.compile(optimizer='adam', loss='sparse_categorical_crossentropy', metrics=['accuracy'])\n",
        "classifier.fit(x_train_features, y_train_labeled, epochs=10, batch_size=128, validation_data=(encoder.predict(x_test), y_test))"
      ],
      "metadata": {
        "colab": {
          "base_uri": "https://localhost:8080/"
        },
        "id": "Dh5cCnskdSey",
        "outputId": "a7094e3a-2003-4365-ae2a-f359646863cd"
      },
      "execution_count": null,
      "outputs": [
        {
          "output_type": "stream",
          "name": "stdout",
          "text": [
            "313/313 [==============================] - 2s 7ms/step\n",
            "Epoch 1/10\n",
            "94/94 [==============================] - 1s 6ms/step - loss: 1.7867 - accuracy: 0.4402 - val_loss: 1.1415 - val_accuracy: 0.6407\n",
            "Epoch 2/10\n",
            "94/94 [==============================] - 1s 6ms/step - loss: 0.9312 - accuracy: 0.7173 - val_loss: 0.7697 - val_accuracy: 0.7755\n",
            "Epoch 3/10\n",
            "94/94 [==============================] - 0s 5ms/step - loss: 0.6990 - accuracy: 0.7897 - val_loss: 0.6138 - val_accuracy: 0.8151\n",
            "Epoch 4/10\n",
            "94/94 [==============================] - 0s 5ms/step - loss: 0.5769 - accuracy: 0.8268 - val_loss: 0.5105 - val_accuracy: 0.8603\n",
            "Epoch 5/10\n",
            "94/94 [==============================] - 0s 4ms/step - loss: 0.4952 - accuracy: 0.8557 - val_loss: 0.4524 - val_accuracy: 0.8745\n",
            "Epoch 6/10\n",
            "94/94 [==============================] - 0s 5ms/step - loss: 0.4368 - accuracy: 0.8743 - val_loss: 0.4193 - val_accuracy: 0.8761\n",
            "Epoch 7/10\n",
            "94/94 [==============================] - 0s 5ms/step - loss: 0.3973 - accuracy: 0.8848 - val_loss: 0.4020 - val_accuracy: 0.8775\n",
            "Epoch 8/10\n",
            "94/94 [==============================] - 0s 4ms/step - loss: 0.3660 - accuracy: 0.8948 - val_loss: 0.3601 - val_accuracy: 0.8939\n",
            "Epoch 9/10\n",
            "94/94 [==============================] - 0s 5ms/step - loss: 0.3419 - accuracy: 0.9007 - val_loss: 0.3266 - val_accuracy: 0.9052\n",
            "Epoch 10/10\n",
            "94/94 [==============================] - 0s 4ms/step - loss: 0.3153 - accuracy: 0.9084 - val_loss: 0.3107 - val_accuracy: 0.9108\n"
          ]
        },
        {
          "output_type": "execute_result",
          "data": {
            "text/plain": [
              "<keras.src.callbacks.History at 0x7997ead79cf0>"
            ]
          },
          "metadata": {},
          "execution_count": 10
        }
      ]
    },
    {
      "cell_type": "code",
      "source": [
        "# Comparer les performances avec et sans l'auto-encodeur\n",
        "# Définir et entraîner un modèle de classification sans les caractéristiques d'auto-encodeur\n",
        "input_img = keras.Input(shape=(28, 28, 1))\n",
        "x = keras.layers.Flatten()(input_img)\n",
        "x = keras.layers.Dense(128, activation='relu')(x)\n",
        "output = keras.layers.Dense(10, activation='softmax')(x)\n",
        "classifier_baseline = keras.Model(input_img, output)\n",
        "classifier_baseline.compile(optimizer='adam', loss='sparse_categorical_crossentropy', metrics=['accuracy'])\n",
        "classifier_baseline.fit(x_train_labeled, y_train_labeled, epochs=10, batch_size=128, validation_data=(x_test, y_test))"
      ],
      "metadata": {
        "colab": {
          "base_uri": "https://localhost:8080/"
        },
        "id": "BjOx_io0rcOV",
        "outputId": "5ec4a532-5049-4c96-fb8b-654307df9202"
      },
      "execution_count": null,
      "outputs": [
        {
          "output_type": "stream",
          "name": "stdout",
          "text": [
            "Epoch 1/10\n",
            "94/94 [==============================] - 2s 11ms/step - loss: 0.7080 - accuracy: 0.8163 - val_loss: 0.3649 - val_accuracy: 0.8938\n",
            "Epoch 2/10\n",
            "94/94 [==============================] - 1s 11ms/step - loss: 0.3080 - accuracy: 0.9128 - val_loss: 0.2821 - val_accuracy: 0.9207\n",
            "Epoch 3/10\n",
            "94/94 [==============================] - 1s 11ms/step - loss: 0.2445 - accuracy: 0.9299 - val_loss: 0.2503 - val_accuracy: 0.9264\n",
            "Epoch 4/10\n",
            "94/94 [==============================] - 1s 7ms/step - loss: 0.2068 - accuracy: 0.9398 - val_loss: 0.2244 - val_accuracy: 0.9361\n",
            "Epoch 5/10\n",
            "94/94 [==============================] - 1s 7ms/step - loss: 0.1757 - accuracy: 0.9507 - val_loss: 0.2071 - val_accuracy: 0.9401\n",
            "Epoch 6/10\n",
            "94/94 [==============================] - 1s 9ms/step - loss: 0.1503 - accuracy: 0.9566 - val_loss: 0.1907 - val_accuracy: 0.9454\n",
            "Epoch 7/10\n",
            "94/94 [==============================] - 1s 8ms/step - loss: 0.1299 - accuracy: 0.9638 - val_loss: 0.1842 - val_accuracy: 0.9461\n",
            "Epoch 8/10\n",
            "94/94 [==============================] - 1s 8ms/step - loss: 0.1149 - accuracy: 0.9697 - val_loss: 0.1762 - val_accuracy: 0.9469\n",
            "Epoch 9/10\n",
            "94/94 [==============================] - 1s 8ms/step - loss: 0.0988 - accuracy: 0.9747 - val_loss: 0.1672 - val_accuracy: 0.9494\n",
            "Epoch 10/10\n",
            "94/94 [==============================] - 1s 8ms/step - loss: 0.0873 - accuracy: 0.9776 - val_loss: 0.1711 - val_accuracy: 0.9497\n"
          ]
        },
        {
          "output_type": "execute_result",
          "data": {
            "text/plain": [
              "<keras.src.callbacks.History at 0x7997ea46d5d0>"
            ]
          },
          "metadata": {},
          "execution_count": 11
        }
      ]
    },
    {
      "cell_type": "code",
      "source": [
        "# Évaluer les performances du modèle de base\n",
        "_, baseline_accuracy = classifier_baseline.evaluate(x_test, y_test)\n",
        "print(f\"Test accuracy without autoencoder features: {baseline_accuracy:.3f}\")"
      ],
      "metadata": {
        "colab": {
          "base_uri": "https://localhost:8080/"
        },
        "id": "HHtPwsvvdUfm",
        "outputId": "788d189a-c8b2-4a3f-ad21-499d93d24061"
      },
      "execution_count": null,
      "outputs": [
        {
          "output_type": "stream",
          "name": "stdout",
          "text": [
            "313/313 [==============================] - 1s 2ms/step - loss: 0.1711 - accuracy: 0.9497\n",
            "Test accuracy without autoencoder features: 0.950\n"
          ]
        }
      ]
    },
    {
      "cell_type": "code",
      "source": [
        "# Évaluer les performances du modèle avec les caractéristiques d'auto-encodeur\n",
        "_, ae_accuracy = classifier.evaluate(encoder.predict(x_test), y_test)\n",
        "print(f\"Test accuracy with autoencoder features: {ae_accuracy:.3f}\")"
      ],
      "metadata": {
        "colab": {
          "base_uri": "https://localhost:8080/"
        },
        "id": "gi3sihW3rlnd",
        "outputId": "4ab4b032-d0f7-40b7-ca19-ca2a38982869"
      },
      "execution_count": null,
      "outputs": [
        {
          "output_type": "stream",
          "name": "stdout",
          "text": [
            "313/313 [==============================] - 2s 7ms/step\n",
            "313/313 [==============================] - 1s 2ms/step - loss: 0.3107 - accuracy: 0.9108\n",
            "Test accuracy with autoencoder features: 0.911\n"
          ]
        }
      ]
    }
  ]
}